{
 "cells": [
  {
   "cell_type": "markdown",
   "metadata": {},
   "source": [
    "# Week 2 Homework\n",
    "\n",
    "\n",
    "## Climate Change\n",
    "\n",
    "Read the dataset into R\n"
   ]
  },
  {
   "cell_type": "code",
   "execution_count": 3,
   "metadata": {},
   "outputs": [
    {
     "name": "stderr",
     "output_type": "stream",
     "text": [
      "Parsed with column specification:\n",
      "cols(\n",
      "  Year = col_integer(),\n",
      "  Month = col_integer(),\n",
      "  MEI = col_double(),\n",
      "  CO2 = col_double(),\n",
      "  CH4 = col_double(),\n",
      "  N2O = col_double(),\n",
      "  `CFC-11` = col_double(),\n",
      "  `CFC-12` = col_double(),\n",
      "  TSI = col_double(),\n",
      "  Aerosols = col_double(),\n",
      "  Temp = col_double()\n",
      ")\n"
     ]
    }
   ],
   "source": [
    "library(readr)\n",
    "library(tidyverse)\n",
    "\n",
    "climate <- read_csv(\"~/Documents/Online Classes/analytics-edge/climate_change.csv\")"
   ]
  },
  {
   "cell_type": "markdown",
   "metadata": {},
   "source": [
    "Split the data into a training set, consisting of all the observations up to and including 2006, and a testing set consisting of the remaining years."
   ]
  },
  {
   "cell_type": "code",
   "execution_count": 4,
   "metadata": {
    "collapsed": true
   },
   "outputs": [],
   "source": [
    "climate_train <- subset(climate, climate$Year <= 2006)\n",
    "\n",
    "climate_test <- subset(climate, climate$Year > 2006)"
   ]
  },
  {
   "cell_type": "markdown",
   "metadata": {},
   "source": [
    "Build a linear regression model to predict the dependent variable Temp, using MEI, CO2, CH4, N2O, CFC.11, CFC.12, TSI, and Aerosols as independent variables."
   ]
  },
  {
   "cell_type": "code",
   "execution_count": 6,
   "metadata": {},
   "outputs": [
    {
     "data": {
      "text/plain": [
       "\n",
       "Call:\n",
       "lm(formula = Temp ~ MEI + CO2 + CH4 + N2O + `CFC-11` + `CFC-12` + \n",
       "    TSI + Aerosols, data = climate_train)\n",
       "\n",
       "Residuals:\n",
       "     Min       1Q   Median       3Q      Max \n",
       "-0.25888 -0.05913 -0.00082  0.05649  0.32433 \n",
       "\n",
       "Coefficients:\n",
       "              Estimate Std. Error t value Pr(>|t|)    \n",
       "(Intercept) -1.246e+02  1.989e+01  -6.265 1.43e-09 ***\n",
       "MEI          6.421e-02  6.470e-03   9.923  < 2e-16 ***\n",
       "CO2          6.457e-03  2.285e-03   2.826  0.00505 ** \n",
       "CH4          1.240e-04  5.158e-04   0.240  0.81015    \n",
       "N2O         -1.653e-02  8.565e-03  -1.930  0.05467 .  \n",
       "`CFC-11`    -6.631e-03  1.626e-03  -4.078 5.96e-05 ***\n",
       "`CFC-12`     3.808e-03  1.014e-03   3.757  0.00021 ***\n",
       "TSI          9.314e-02  1.475e-02   6.313 1.10e-09 ***\n",
       "Aerosols    -1.538e+00  2.133e-01  -7.210 5.41e-12 ***\n",
       "---\n",
       "Signif. codes:  0 ‘***’ 0.001 ‘**’ 0.01 ‘*’ 0.05 ‘.’ 0.1 ‘ ’ 1\n",
       "\n",
       "Residual standard error: 0.09171 on 275 degrees of freedom\n",
       "Multiple R-squared:  0.7509,\tAdjusted R-squared:  0.7436 \n",
       "F-statistic: 103.6 on 8 and 275 DF,  p-value: < 2.2e-16\n"
      ]
     },
     "metadata": {},
     "output_type": "display_data"
    }
   ],
   "source": [
    "model_train <- lm(Temp ~ MEI + CO2 + CH4 + N2O + `CFC-11` + `CFC-12` + TSI + Aerosols, data = climate_train)\n",
    "summary(model_train)"
   ]
  },
  {
   "cell_type": "markdown",
   "metadata": {},
   "source": [
    "Compute the correlations between all the variables in the training set."
   ]
  },
  {
   "cell_type": "code",
   "execution_count": 7,
   "metadata": {},
   "outputs": [
    {
     "data": {
      "text/html": [
       "<table>\n",
       "<thead><tr><th></th><th scope=col>Year</th><th scope=col>Month</th><th scope=col>MEI</th><th scope=col>CO2</th><th scope=col>CH4</th><th scope=col>N2O</th><th scope=col>CFC-11</th><th scope=col>CFC-12</th><th scope=col>TSI</th><th scope=col>Aerosols</th><th scope=col>Temp</th></tr></thead>\n",
       "<tbody>\n",
       "\t<tr><th scope=row>Year</th><td> 1.00000000  </td><td>-0.0279419602</td><td>-0.0369876842</td><td> 0.98274939  </td><td> 0.91565945  </td><td> 0.99384523  </td><td> 0.56910643  </td><td> 0.8970116635</td><td> 0.17030201  </td><td>-0.34524670  </td><td> 0.78679714  </td></tr>\n",
       "\t<tr><th scope=row>Month</th><td>-0.02794196  </td><td> 1.0000000000</td><td> 0.0008846905</td><td>-0.10673246  </td><td> 0.01856866  </td><td> 0.01363153  </td><td>-0.01311122  </td><td> 0.0006751102</td><td>-0.03460619  </td><td> 0.01488954  </td><td>-0.09985674  </td></tr>\n",
       "\t<tr><th scope=row>MEI</th><td>-0.03698768  </td><td> 0.0008846905</td><td> 1.0000000000</td><td>-0.04114717  </td><td>-0.03341930  </td><td>-0.05081978  </td><td> 0.06900044  </td><td> 0.0082855443</td><td>-0.15449192  </td><td> 0.34023779  </td><td> 0.17247075  </td></tr>\n",
       "\t<tr><th scope=row>CO2</th><td> 0.98274939  </td><td>-0.1067324607</td><td>-0.0411471651</td><td> 1.00000000  </td><td> 0.87727963  </td><td> 0.97671982  </td><td> 0.51405975  </td><td> 0.8526896272</td><td> 0.17742893  </td><td>-0.35615480  </td><td> 0.78852921  </td></tr>\n",
       "\t<tr><th scope=row>CH4</th><td> 0.91565945  </td><td> 0.0185686624</td><td>-0.0334193014</td><td> 0.87727963  </td><td> 1.00000000  </td><td> 0.89983864  </td><td> 0.77990402  </td><td> 0.9636162478</td><td> 0.24552844  </td><td>-0.26780919  </td><td> 0.70325502  </td></tr>\n",
       "\t<tr><th scope=row>N2O</th><td> 0.99384523  </td><td> 0.0136315303</td><td>-0.0508197755</td><td> 0.97671982  </td><td> 0.89983864  </td><td> 1.00000000  </td><td> 0.52247732  </td><td> 0.8679307757</td><td> 0.19975668  </td><td>-0.33705457  </td><td> 0.77863893  </td></tr>\n",
       "\t<tr><th scope=row>CFC-11</th><td> 0.56910643  </td><td>-0.0131112236</td><td> 0.0690004387</td><td> 0.51405975  </td><td> 0.77990402  </td><td> 0.52247732  </td><td> 1.00000000  </td><td> 0.8689851828</td><td> 0.27204596  </td><td>-0.04392120  </td><td> 0.40771029  </td></tr>\n",
       "\t<tr><th scope=row>CFC-12</th><td> 0.89701166  </td><td> 0.0006751102</td><td> 0.0082855443</td><td> 0.85268963  </td><td> 0.96361625  </td><td> 0.86793078  </td><td> 0.86898518  </td><td> 1.0000000000</td><td> 0.25530281  </td><td>-0.22513124  </td><td> 0.68755755  </td></tr>\n",
       "\t<tr><th scope=row>TSI</th><td> 0.17030201  </td><td>-0.0346061935</td><td>-0.1544919227</td><td> 0.17742893  </td><td> 0.24552844  </td><td> 0.19975668  </td><td> 0.27204596  </td><td> 0.2553028138</td><td> 1.00000000  </td><td> 0.05211651  </td><td> 0.24338269  </td></tr>\n",
       "\t<tr><th scope=row>Aerosols</th><td>-0.34524670  </td><td> 0.0148895406</td><td> 0.3402377871</td><td>-0.35615480  </td><td>-0.26780919  </td><td>-0.33705457  </td><td>-0.04392120  </td><td>-0.2251312440</td><td> 0.05211651  </td><td> 1.00000000  </td><td>-0.38491375  </td></tr>\n",
       "\t<tr><th scope=row>Temp</th><td> 0.78679714  </td><td>-0.0998567411</td><td> 0.1724707512</td><td> 0.78852921  </td><td> 0.70325502  </td><td> 0.77863893  </td><td> 0.40771029  </td><td> 0.6875575483</td><td> 0.24338269  </td><td>-0.38491375  </td><td> 1.00000000  </td></tr>\n",
       "</tbody>\n",
       "</table>\n"
      ],
      "text/latex": [
       "\\begin{tabular}{r|lllllllllll}\n",
       "  & Year & Month & MEI & CO2 & CH4 & N2O & CFC-11 & CFC-12 & TSI & Aerosols & Temp\\\\\n",
       "\\hline\n",
       "\tYear &  1.00000000   & -0.0279419602 & -0.0369876842 &  0.98274939   &  0.91565945   &  0.99384523   &  0.56910643   &  0.8970116635 &  0.17030201   & -0.34524670   &  0.78679714  \\\\\n",
       "\tMonth & -0.02794196   &  1.0000000000 &  0.0008846905 & -0.10673246   &  0.01856866   &  0.01363153   & -0.01311122   &  0.0006751102 & -0.03460619   &  0.01488954   & -0.09985674  \\\\\n",
       "\tMEI & -0.03698768   &  0.0008846905 &  1.0000000000 & -0.04114717   & -0.03341930   & -0.05081978   &  0.06900044   &  0.0082855443 & -0.15449192   &  0.34023779   &  0.17247075  \\\\\n",
       "\tCO2 &  0.98274939   & -0.1067324607 & -0.0411471651 &  1.00000000   &  0.87727963   &  0.97671982   &  0.51405975   &  0.8526896272 &  0.17742893   & -0.35615480   &  0.78852921  \\\\\n",
       "\tCH4 &  0.91565945   &  0.0185686624 & -0.0334193014 &  0.87727963   &  1.00000000   &  0.89983864   &  0.77990402   &  0.9636162478 &  0.24552844   & -0.26780919   &  0.70325502  \\\\\n",
       "\tN2O &  0.99384523   &  0.0136315303 & -0.0508197755 &  0.97671982   &  0.89983864   &  1.00000000   &  0.52247732   &  0.8679307757 &  0.19975668   & -0.33705457   &  0.77863893  \\\\\n",
       "\tCFC-11 &  0.56910643   & -0.0131112236 &  0.0690004387 &  0.51405975   &  0.77990402   &  0.52247732   &  1.00000000   &  0.8689851828 &  0.27204596   & -0.04392120   &  0.40771029  \\\\\n",
       "\tCFC-12 &  0.89701166   &  0.0006751102 &  0.0082855443 &  0.85268963   &  0.96361625   &  0.86793078   &  0.86898518   &  1.0000000000 &  0.25530281   & -0.22513124   &  0.68755755  \\\\\n",
       "\tTSI &  0.17030201   & -0.0346061935 & -0.1544919227 &  0.17742893   &  0.24552844   &  0.19975668   &  0.27204596   &  0.2553028138 &  1.00000000   &  0.05211651   &  0.24338269  \\\\\n",
       "\tAerosols & -0.34524670   &  0.0148895406 &  0.3402377871 & -0.35615480   & -0.26780919   & -0.33705457   & -0.04392120   & -0.2251312440 &  0.05211651   &  1.00000000   & -0.38491375  \\\\\n",
       "\tTemp &  0.78679714   & -0.0998567411 &  0.1724707512 &  0.78852921   &  0.70325502   &  0.77863893   &  0.40771029   &  0.6875575483 &  0.24338269   & -0.38491375   &  1.00000000  \\\\\n",
       "\\end{tabular}\n"
      ],
      "text/markdown": [
       "\n",
       "| <!--/--> | Year | Month | MEI | CO2 | CH4 | N2O | CFC-11 | CFC-12 | TSI | Aerosols | Temp | \n",
       "|---|---|---|---|---|---|---|---|---|---|---|\n",
       "| Year |  1.00000000   | -0.0279419602 | -0.0369876842 |  0.98274939   |  0.91565945   |  0.99384523   |  0.56910643   |  0.8970116635 |  0.17030201   | -0.34524670   |  0.78679714   | \n",
       "| Month | -0.02794196   |  1.0000000000 |  0.0008846905 | -0.10673246   |  0.01856866   |  0.01363153   | -0.01311122   |  0.0006751102 | -0.03460619   |  0.01488954   | -0.09985674   | \n",
       "| MEI | -0.03698768   |  0.0008846905 |  1.0000000000 | -0.04114717   | -0.03341930   | -0.05081978   |  0.06900044   |  0.0082855443 | -0.15449192   |  0.34023779   |  0.17247075   | \n",
       "| CO2 |  0.98274939   | -0.1067324607 | -0.0411471651 |  1.00000000   |  0.87727963   |  0.97671982   |  0.51405975   |  0.8526896272 |  0.17742893   | -0.35615480   |  0.78852921   | \n",
       "| CH4 |  0.91565945   |  0.0185686624 | -0.0334193014 |  0.87727963   |  1.00000000   |  0.89983864   |  0.77990402   |  0.9636162478 |  0.24552844   | -0.26780919   |  0.70325502   | \n",
       "| N2O |  0.99384523   |  0.0136315303 | -0.0508197755 |  0.97671982   |  0.89983864   |  1.00000000   |  0.52247732   |  0.8679307757 |  0.19975668   | -0.33705457   |  0.77863893   | \n",
       "| CFC-11 |  0.56910643   | -0.0131112236 |  0.0690004387 |  0.51405975   |  0.77990402   |  0.52247732   |  1.00000000   |  0.8689851828 |  0.27204596   | -0.04392120   |  0.40771029   | \n",
       "| CFC-12 |  0.89701166   |  0.0006751102 |  0.0082855443 |  0.85268963   |  0.96361625   |  0.86793078   |  0.86898518   |  1.0000000000 |  0.25530281   | -0.22513124   |  0.68755755   | \n",
       "| TSI |  0.17030201   | -0.0346061935 | -0.1544919227 |  0.17742893   |  0.24552844   |  0.19975668   |  0.27204596   |  0.2553028138 |  1.00000000   |  0.05211651   |  0.24338269   | \n",
       "| Aerosols | -0.34524670   |  0.0148895406 |  0.3402377871 | -0.35615480   | -0.26780919   | -0.33705457   | -0.04392120   | -0.2251312440 |  0.05211651   |  1.00000000   | -0.38491375   | \n",
       "| Temp |  0.78679714   | -0.0998567411 |  0.1724707512 |  0.78852921   |  0.70325502   |  0.77863893   |  0.40771029   |  0.6875575483 |  0.24338269   | -0.38491375   |  1.00000000   | \n",
       "\n",
       "\n"
      ],
      "text/plain": [
       "         Year        Month         MEI           CO2         CH4        \n",
       "Year      1.00000000 -0.0279419602 -0.0369876842  0.98274939  0.91565945\n",
       "Month    -0.02794196  1.0000000000  0.0008846905 -0.10673246  0.01856866\n",
       "MEI      -0.03698768  0.0008846905  1.0000000000 -0.04114717 -0.03341930\n",
       "CO2       0.98274939 -0.1067324607 -0.0411471651  1.00000000  0.87727963\n",
       "CH4       0.91565945  0.0185686624 -0.0334193014  0.87727963  1.00000000\n",
       "N2O       0.99384523  0.0136315303 -0.0508197755  0.97671982  0.89983864\n",
       "CFC-11    0.56910643 -0.0131112236  0.0690004387  0.51405975  0.77990402\n",
       "CFC-12    0.89701166  0.0006751102  0.0082855443  0.85268963  0.96361625\n",
       "TSI       0.17030201 -0.0346061935 -0.1544919227  0.17742893  0.24552844\n",
       "Aerosols -0.34524670  0.0148895406  0.3402377871 -0.35615480 -0.26780919\n",
       "Temp      0.78679714 -0.0998567411  0.1724707512  0.78852921  0.70325502\n",
       "         N2O         CFC-11      CFC-12        TSI         Aerosols   \n",
       "Year      0.99384523  0.56910643  0.8970116635  0.17030201 -0.34524670\n",
       "Month     0.01363153 -0.01311122  0.0006751102 -0.03460619  0.01488954\n",
       "MEI      -0.05081978  0.06900044  0.0082855443 -0.15449192  0.34023779\n",
       "CO2       0.97671982  0.51405975  0.8526896272  0.17742893 -0.35615480\n",
       "CH4       0.89983864  0.77990402  0.9636162478  0.24552844 -0.26780919\n",
       "N2O       1.00000000  0.52247732  0.8679307757  0.19975668 -0.33705457\n",
       "CFC-11    0.52247732  1.00000000  0.8689851828  0.27204596 -0.04392120\n",
       "CFC-12    0.86793078  0.86898518  1.0000000000  0.25530281 -0.22513124\n",
       "TSI       0.19975668  0.27204596  0.2553028138  1.00000000  0.05211651\n",
       "Aerosols -0.33705457 -0.04392120 -0.2251312440  0.05211651  1.00000000\n",
       "Temp      0.77863893  0.40771029  0.6875575483  0.24338269 -0.38491375\n",
       "         Temp       \n",
       "Year      0.78679714\n",
       "Month    -0.09985674\n",
       "MEI       0.17247075\n",
       "CO2       0.78852921\n",
       "CH4       0.70325502\n",
       "N2O       0.77863893\n",
       "CFC-11    0.40771029\n",
       "CFC-12    0.68755755\n",
       "TSI       0.24338269\n",
       "Aerosols -0.38491375\n",
       "Temp      1.00000000"
      ]
     },
     "metadata": {},
     "output_type": "display_data"
    },
    {
     "data": {
      "image/png": "[encoded data removed]",
      "text/plain": [
       "Plot with title “”"
      ]
     },
     "metadata": {},
     "output_type": "display_data"
    }
   ],
   "source": [
    "cor(climate_train)\n",
    "\n",
    "library(corrplot)\n",
    "corrplot(cor(climate_train), method = \"shade\")"
   ]
  },
  {
   "cell_type": "markdown",
   "metadata": {},
   "source": [
    "Focus on the N2O variable and build a model with only MEI, TSI, Aerosols and N2O as independent variables"
   ]
  },
  {
   "cell_type": "code",
   "execution_count": 8,
   "metadata": {},
   "outputs": [
    {
     "data": {
      "text/plain": [
       "\n",
       "Call:\n",
       "lm(formula = Temp ~ MEI + TSI + Aerosols + N2O, data = climate_train)\n",
       "\n",
       "Residuals:\n",
       "     Min       1Q   Median       3Q      Max \n",
       "-0.27916 -0.05975 -0.00595  0.05672  0.34195 \n",
       "\n",
       "Coefficients:\n",
       "              Estimate Std. Error t value Pr(>|t|)    \n",
       "(Intercept) -1.162e+02  2.022e+01  -5.747 2.37e-08 ***\n",
       "MEI          6.419e-02  6.652e-03   9.649  < 2e-16 ***\n",
       "TSI          7.949e-02  1.487e-02   5.344 1.89e-07 ***\n",
       "Aerosols    -1.702e+00  2.180e-01  -7.806 1.19e-13 ***\n",
       "N2O          2.532e-02  1.311e-03  19.307  < 2e-16 ***\n",
       "---\n",
       "Signif. codes:  0 ‘***’ 0.001 ‘**’ 0.01 ‘*’ 0.05 ‘.’ 0.1 ‘ ’ 1\n",
       "\n",
       "Residual standard error: 0.09547 on 279 degrees of freedom\n",
       "Multiple R-squared:  0.7261,\tAdjusted R-squared:  0.7222 \n",
       "F-statistic: 184.9 on 4 and 279 DF,  p-value: < 2.2e-16\n"
      ]
     },
     "metadata": {},
     "output_type": "display_data"
    }
   ],
   "source": [
    "model_train2 <- lm(Temp ~ MEI + TSI + Aerosols + N2O, data = climate_train)\n",
    "summary(model_train2)"
   ]
  },
  {
   "cell_type": "markdown",
   "metadata": {},
   "source": [
    "The `step` function automagically tries different combinations of independent variables to find a good compromise between model simplicity and $R^2$.\n",
    "\n",
    "Let's apply the `step` function to our original model that contained _all_ of our variables, `model_train`."
   ]
  },
  {
   "cell_type": "code",
   "execution_count": 9,
   "metadata": {},
   "outputs": [
    {
     "name": "stdout",
     "output_type": "stream",
     "text": [
      "Start:  AIC=-1348.16\n",
      "Temp ~ MEI + CO2 + CH4 + N2O + `CFC-11` + `CFC-12` + TSI + Aerosols\n",
      "\n",
      "           Df Sum of Sq    RSS     AIC\n",
      "- CH4       1   0.00049 2.3135 -1350.1\n",
      "<none>                  2.3130 -1348.2\n",
      "- N2O       1   0.03132 2.3443 -1346.3\n",
      "- CO2       1   0.06719 2.3802 -1342.0\n",
      "- `CFC-12`  1   0.11874 2.4318 -1335.9\n",
      "- `CFC-11`  1   0.13986 2.4529 -1333.5\n",
      "- TSI       1   0.33516 2.6482 -1311.7\n",
      "- Aerosols  1   0.43727 2.7503 -1301.0\n",
      "- MEI       1   0.82823 3.1412 -1263.2\n",
      "\n",
      "Step:  AIC=-1350.1\n",
      "Temp ~ MEI + CO2 + N2O + `CFC-11` + `CFC-12` + TSI + Aerosols\n",
      "\n",
      "           Df Sum of Sq    RSS     AIC\n",
      "<none>                  2.3135 -1350.1\n",
      "- N2O       1   0.03133 2.3448 -1348.3\n",
      "- CO2       1   0.06672 2.3802 -1344.0\n",
      "- `CFC-12`  1   0.13023 2.4437 -1336.5\n",
      "- `CFC-11`  1   0.13938 2.4529 -1335.5\n",
      "- TSI       1   0.33500 2.6485 -1313.7\n",
      "- Aerosols  1   0.43987 2.7534 -1302.7\n",
      "- MEI       1   0.83118 3.1447 -1264.9\n"
     ]
    },
    {
     "data": {
      "text/plain": [
       "\n",
       "Call:\n",
       "lm(formula = Temp ~ MEI + CO2 + N2O + `CFC-11` + `CFC-12` + TSI + \n",
       "    Aerosols, data = climate_train)\n",
       "\n",
       "Residuals:\n",
       "     Min       1Q   Median       3Q      Max \n",
       "-0.25770 -0.05994 -0.00104  0.05588  0.32203 \n",
       "\n",
       "Coefficients:\n",
       "              Estimate Std. Error t value Pr(>|t|)    \n",
       "(Intercept) -1.245e+02  1.985e+01  -6.273 1.37e-09 ***\n",
       "MEI          6.407e-02  6.434e-03   9.958  < 2e-16 ***\n",
       "CO2          6.402e-03  2.269e-03   2.821 0.005129 ** \n",
       "N2O         -1.602e-02  8.287e-03  -1.933 0.054234 .  \n",
       "`CFC-11`    -6.609e-03  1.621e-03  -4.078 5.95e-05 ***\n",
       "`CFC-12`     3.868e-03  9.812e-04   3.942 0.000103 ***\n",
       "TSI          9.312e-02  1.473e-02   6.322 1.04e-09 ***\n",
       "Aerosols    -1.540e+00  2.126e-01  -7.244 4.36e-12 ***\n",
       "---\n",
       "Signif. codes:  0 ‘***’ 0.001 ‘**’ 0.01 ‘*’ 0.05 ‘.’ 0.1 ‘ ’ 1\n",
       "\n",
       "Residual standard error: 0.09155 on 276 degrees of freedom\n",
       "Multiple R-squared:  0.7508,\tAdjusted R-squared:  0.7445 \n",
       "F-statistic: 118.8 on 7 and 276 DF,  p-value: < 2.2e-16\n"
      ]
     },
     "metadata": {},
     "output_type": "display_data"
    }
   ],
   "source": [
    "model_step <- step(model_train)\n",
    "summary(model_step)"
   ]
  },
  {
   "cell_type": "markdown",
   "metadata": {},
   "source": [
    "Notice how the `step` function has removed one of the independent variables, `CH4`."
   ]
  },
  {
   "cell_type": "markdown",
   "metadata": {},
   "source": [
    "Using the model produced from the step function, calculate temperature predictions for the testing data set"
   ]
  },
  {
   "cell_type": "code",
   "execution_count": 10,
   "metadata": {},
   "outputs": [
    {
     "data": {
      "text/html": [
       "<dl class=dl-horizontal>\n",
       "\t<dt>1</dt>\n",
       "\t\t<dd>0.467780765862034</dd>\n",
       "\t<dt>2</dt>\n",
       "\t\t<dd>0.443540423387233</dd>\n",
       "\t<dt>3</dt>\n",
       "\t\t<dd>0.42655405966952</dd>\n",
       "\t<dt>4</dt>\n",
       "\t\t<dd>0.429916210439679</dd>\n",
       "\t<dt>5</dt>\n",
       "\t\t<dd>0.445511274787343</dd>\n",
       "\t<dt>6</dt>\n",
       "\t\t<dd>0.415142182477834</dd>\n",
       "\t<dt>7</dt>\n",
       "\t\t<dd>0.409736650864414</dd>\n",
       "\t<dt>8</dt>\n",
       "\t\t<dd>0.383939042266498</dd>\n",
       "\t<dt>9</dt>\n",
       "\t\t<dd>0.325559538377011</dd>\n",
       "\t<dt>10</dt>\n",
       "\t\t<dd>0.327414734164158</dd>\n",
       "\t<dt>11</dt>\n",
       "\t\t<dd>0.323140084952702</dd>\n",
       "\t<dt>12</dt>\n",
       "\t\t<dd>0.33167039650051</dd>\n",
       "\t<dt>13</dt>\n",
       "\t\t<dd>0.352213416475199</dd>\n",
       "\t<dt>14</dt>\n",
       "\t\t<dd>0.331312852295068</dd>\n",
       "\t<dt>15</dt>\n",
       "\t\t<dd>0.314211178097669</dd>\n",
       "\t<dt>16</dt>\n",
       "\t\t<dd>0.370341011265929</dd>\n",
       "\t<dt>17</dt>\n",
       "\t\t<dd>0.416221271631998</dd>\n",
       "\t<dt>18</dt>\n",
       "\t\t<dd>0.439145790048415</dd>\n",
       "\t<dt>19</dt>\n",
       "\t\t<dd>0.423796533033149</dd>\n",
       "\t<dt>20</dt>\n",
       "\t\t<dd>0.39136790903363</dd>\n",
       "\t<dt>21</dt>\n",
       "\t\t<dd>0.358761466878733</dd>\n",
       "\t<dt>22</dt>\n",
       "\t\t<dd>0.345199074288732</dd>\n",
       "\t<dt>23</dt>\n",
       "\t\t<dd>0.360708690747739</dd>\n",
       "\t<dt>24</dt>\n",
       "\t\t<dd>0.363807628911292</dd>\n",
       "</dl>\n"
      ],
      "text/latex": [
       "\\begin{description*}\n",
       "\\item[1] 0.467780765862034\n",
       "\\item[2] 0.443540423387233\n",
       "\\item[3] 0.42655405966952\n",
       "\\item[4] 0.429916210439679\n",
       "\\item[5] 0.445511274787343\n",
       "\\item[6] 0.415142182477834\n",
       "\\item[7] 0.409736650864414\n",
       "\\item[8] 0.383939042266498\n",
       "\\item[9] 0.325559538377011\n",
       "\\item[10] 0.327414734164158\n",
       "\\item[11] 0.323140084952702\n",
       "\\item[12] 0.33167039650051\n",
       "\\item[13] 0.352213416475199\n",
       "\\item[14] 0.331312852295068\n",
       "\\item[15] 0.314211178097669\n",
       "\\item[16] 0.370341011265929\n",
       "\\item[17] 0.416221271631998\n",
       "\\item[18] 0.439145790048415\n",
       "\\item[19] 0.423796533033149\n",
       "\\item[20] 0.39136790903363\n",
       "\\item[21] 0.358761466878733\n",
       "\\item[22] 0.345199074288732\n",
       "\\item[23] 0.360708690747739\n",
       "\\item[24] 0.363807628911292\n",
       "\\end{description*}\n"
      ],
      "text/markdown": [
       "1\n",
       ":   0.4677807658620342\n",
       ":   0.4435404233872333\n",
       ":   0.426554059669524\n",
       ":   0.4299162104396795\n",
       ":   0.4455112747873436\n",
       ":   0.4151421824778347\n",
       ":   0.4097366508644148\n",
       ":   0.3839390422664989\n",
       ":   0.32555953837701110\n",
       ":   0.32741473416415811\n",
       ":   0.32314008495270212\n",
       ":   0.3316703965005113\n",
       ":   0.35221341647519914\n",
       ":   0.33131285229506815\n",
       ":   0.31421117809766916\n",
       ":   0.37034101126592917\n",
       ":   0.41622127163199818\n",
       ":   0.43914579004841519\n",
       ":   0.42379653303314920\n",
       ":   0.3913679090336321\n",
       ":   0.35876146687873322\n",
       ":   0.34519907428873223\n",
       ":   0.36070869074773924\n",
       ":   0.363807628911292\n",
       "\n"
      ],
      "text/plain": [
       "        1         2         3         4         5         6         7         8 \n",
       "0.4677808 0.4435404 0.4265541 0.4299162 0.4455113 0.4151422 0.4097367 0.3839390 \n",
       "        9        10        11        12        13        14        15        16 \n",
       "0.3255595 0.3274147 0.3231401 0.3316704 0.3522134 0.3313129 0.3142112 0.3703410 \n",
       "       17        18        19        20        21        22        23        24 \n",
       "0.4162213 0.4391458 0.4237965 0.3913679 0.3587615 0.3451991 0.3607087 0.3638076 "
      ]
     },
     "metadata": {},
     "output_type": "display_data"
    }
   ],
   "source": [
    "predict_climate <- predict(model_step, newdata=climate_test)\n",
    "predict_climate"
   ]
  },
  {
   "cell_type": "markdown",
   "metadata": {},
   "source": [
    "Calculate $R^2$\n",
    "\n",
    "Recall, \n",
    "\n",
    "$$R^2 = 1 - \\frac{\\text{RSS}}{\\text{TSS}}$$\n",
    "$$\\text{RSS} = \\displaystyle \\sum_{i = 1}^{n}(y_i - \\hat{y}_i)^2$$\n",
    "$$\\text{TSS} = \\displaystyle \\sum_{i = 1}^n (y_i - \\bar{y})^2$$"
   ]
  },
  {
   "cell_type": "code",
   "execution_count": 11,
   "metadata": {},
   "outputs": [
    {
     "data": {
      "text/html": [
       "0.628605122509888"
      ],
      "text/latex": [
       "0.628605122509888"
      ],
      "text/markdown": [
       "0.628605122509888"
      ],
      "text/plain": [
       "[1] 0.6286051"
      ]
     },
     "metadata": {},
     "output_type": "display_data"
    }
   ],
   "source": [
    "RSS <- sum((climate_test$Temp - predict_climate)^2)\n",
    "TSS <- sum((climate_test$Temp - mean(climate_train$Temp))^2)\n",
    "1 - RSS/TSS"
   ]
  },
  {
   "cell_type": "markdown",
   "metadata": {},
   "source": [
    "\n",
    "\n",
    "## Reading Test Scores\n",
    "\n",
    "\n",
    "Load the datasets"
   ]
  },
  {
   "cell_type": "code",
   "execution_count": null,
   "metadata": {
    "collapsed": true
   },
   "outputs": [],
   "source": [
    "library(readr)\n",
    "pisa <- read_csv(\"~/Documents/Online Classes/analytics-edge/pisa2009train.csv\")\n",
    "pisa_test <- read_csv(\"~/Documents/Online Classes/analytics-edge/pisa2009test.csv\")"
   ]
  },
  {
   "cell_type": "markdown",
   "metadata": {},
   "source": [
    "How many students are there in the training set?"
   ]
  },
  {
   "cell_type": "code",
   "execution_count": null,
   "metadata": {
    "collapsed": true
   },
   "outputs": [],
   "source": [
    "nrow(pisa)"
   ]
  },
  {
   "cell_type": "markdown",
   "metadata": {},
   "source": [
    "What is the average reading test score of males? females"
   ]
  },
  {
   "cell_type": "code",
   "execution_count": null,
   "metadata": {
    "collapsed": true
   },
   "outputs": [],
   "source": [
    "tapply(pisa$readingScore, pisa$male, mean)"
   ]
  },
  {
   "cell_type": "markdown",
   "metadata": {},
   "source": [
    "Which variables are missing data in at least one observation in the training set?"
   ]
  },
  {
   "cell_type": "code",
   "execution_count": null,
   "metadata": {
    "collapsed": true
   },
   "outputs": [],
   "source": [
    "summary(pisa)"
   ]
  },
  {
   "cell_type": "markdown",
   "metadata": {},
   "source": [
    "Remove the 'NA' values from the training and test datasets."
   ]
  },
  {
   "cell_type": "code",
   "execution_count": null,
   "metadata": {
    "collapsed": true
   },
   "outputs": [],
   "source": [
    "pisa <- na.omit(pisa)\n",
    "\n",
    "pisa_test <- na.omit(pisa_test)"
   ]
  },
  {
   "cell_type": "markdown",
   "metadata": {},
   "source": [
    "How many observations are now in the training set? test set?"
   ]
  },
  {
   "cell_type": "code",
   "execution_count": null,
   "metadata": {
    "collapsed": true
   },
   "outputs": [],
   "source": [
    "nrow(pisa)\n",
    "nrow(pisa_test)"
   ]
  },
  {
   "cell_type": "markdown",
   "metadata": {},
   "source": [
    "The problem assumed that when reading the .csv file, it had set the `raceeth` elements as factors, but when I checked with `glimpse`, it had them listed as character variables. So, I'll first convert `raceeth` to factors. Then for the purposes of conducting our linear regression we need to we define one level as the \"reference level\" and add a binary variable for each of the remaining levels. Typically, the most common occuring variable is chosen as the \"reference level,\" which in this case is 'White.' In this way, a factor with n levels is replaced by n-1 binary variables. \n",
    "\n",
    "The question illustrates how binary values are used to help with all of this:\n",
    "\"As an example, consider the unordered factor variable \"color\", with levels \"red\", \"green\", and \"blue\". If \"green\" were the reference level, then we would add binary variables \"colorred\" and \"colorblue\" to a linear regression problem. All red examples would have colorred=1 and colorblue=0. All blue examples would have colorred=0 and colorblue=1. All green examples would have colorred=0 and colorblue=0.\""
   ]
  },
  {
   "cell_type": "code",
   "execution_count": null,
   "metadata": {
    "collapsed": true
   },
   "outputs": [],
   "source": [
    "pisa$raceeth <- as.factor(pisa$raceeth)\n",
    "pisa_test$raceeth <- as.factor(pisa_test$raceeth)\n",
    "\n",
    "pisa$raceeth = relevel(pisa$raceeth, \"White\")\n",
    "pisa_test$raceeth = relevel(pisa_test$raceeth, \"White\")"
   ]
  },
  {
   "cell_type": "markdown",
   "metadata": {},
   "source": [
    "Build a linear regression model (call it lmScore) using the training set to predict readingScore using all the remaining variables"
   ]
  },
  {
   "cell_type": "code",
   "execution_count": null,
   "metadata": {
    "collapsed": true
   },
   "outputs": [],
   "source": [
    "lmScore <- lm(readingScore ~., data=pisa)\n",
    "summary(lmScore)"
   ]
  },
  {
   "cell_type": "markdown",
   "metadata": {},
   "source": [
    "What is the training-set root-mean squared error (RMSE) of lmScore?\n",
    "\n",
    "Recall,\n",
    "\n",
    "$$RMSE = \\sqrt{\\frac{RSS}{N}} = \\sqrt{\\frac{1}{N}\\sum_{i = 1}^{n}(y_i - \\hat{y}_i)^2}$$"
   ]
  },
  {
   "cell_type": "code",
   "execution_count": null,
   "metadata": {
    "collapsed": true
   },
   "outputs": [],
   "source": [
    "RSS <- sum(lmScore$residuals^2)\n",
    "RMSE <- sqrt(RSS/nrow(pisa))\n",
    "RMSE"
   ]
  },
  {
   "cell_type": "markdown",
   "metadata": {},
   "source": [
    "Use the lmScore model to predict the reading scores of students in the test set."
   ]
  },
  {
   "cell_type": "code",
   "execution_count": null,
   "metadata": {
    "collapsed": true
   },
   "outputs": [],
   "source": [
    "predTest <- predict(lmScore, newdata = pisa_test)"
   ]
  },
  {
   "cell_type": "markdown",
   "metadata": {},
   "source": [
    "What is the range between the maximum and minimum predicted reading score on the test set?"
   ]
  },
  {
   "cell_type": "code",
   "execution_count": null,
   "metadata": {
    "collapsed": true
   },
   "outputs": [],
   "source": [
    "summary(predTest)\n",
    "max(predTest) - min(predTest)"
   ]
  },
  {
   "cell_type": "raw",
   "metadata": {},
   "source": [
    " What is the residual sum of squares (RSS) of lmScore on the testing set? RMSE?"
   ]
  },
  {
   "cell_type": "code",
   "execution_count": null,
   "metadata": {
    "collapsed": true
   },
   "outputs": [],
   "source": [
    "RSS <- sum((pisa_test$readingScore - predTest)^2)\n",
    "RMSE <- sqrt(RSS/nrow(pisa_test))\n",
    "RSS\n",
    "RMSE"
   ]
  },
  {
   "cell_type": "markdown",
   "metadata": {},
   "source": [
    "What is the predicted test score used in the \"baseline model\"?"
   ]
  },
  {
   "cell_type": "code",
   "execution_count": null,
   "metadata": {
    "collapsed": true
   },
   "outputs": [],
   "source": [
    "mean(pisa$readingScore)"
   ]
  },
  {
   "cell_type": "markdown",
   "metadata": {},
   "source": [
    "What is the RSS of the \"baseline model\" on the testing set?"
   ]
  },
  {
   "cell_type": "code",
   "execution_count": null,
   "metadata": {
    "collapsed": true
   },
   "outputs": [],
   "source": [
    "# This is the same thing as asking what is the TSS\n",
    "\n",
    "TSS_base <- sum((pisa_test$readingScore-mean(pisa$readingScore))^2)\n",
    "TSS_base"
   ]
  },
  {
   "cell_type": "markdown",
   "metadata": {},
   "source": [
    "What is the test-set R-squared value of lmScore?"
   ]
  },
  {
   "cell_type": "code",
   "execution_count": null,
   "metadata": {
    "collapsed": true
   },
   "outputs": [],
   "source": [
    "RSS <- sum((pisa_test$readingScore - predTest)^2)\n",
    "TSS_base <- sum((pisa_test$readingScore-mean(pisa$readingScore))^2)\n",
    "1 - RSS/TSS_base"
   ]
  },
  {
   "cell_type": "markdown",
   "metadata": {},
   "source": [
    "# Detecting Flu Epidemics via Search Engine Query Data"
   ]
  },
  {
   "cell_type": "markdown",
   "metadata": {},
   "source": [
    "Load the data"
   ]
  },
  {
   "cell_type": "code",
   "execution_count": null,
   "metadata": {
    "collapsed": true
   },
   "outputs": [],
   "source": [
    "FluTrain <- read_csv(\"~/Documents/Online Classes/analytics-edge/FluTrain.csv\")\n",
    "FluTest <- read_csv(\"~/Documents/Online Classes/analytics-edge/FluTest.csv\")"
   ]
  },
  {
   "cell_type": "markdown",
   "metadata": {},
   "source": [
    "Looking at the time period 2004-2011, which week corresponds to the highest percentage of ILI-related physician visits?"
   ]
  },
  {
   "cell_type": "code",
   "execution_count": null,
   "metadata": {
    "collapsed": true
   },
   "outputs": [],
   "source": [
    "glimpse(FluTrain)\n",
    "which.max(FluTrain$ILI)\n",
    "FluTrain$Week[303]"
   ]
  },
  {
   "cell_type": "markdown",
   "metadata": {},
   "source": [
    "Plot the histogram of the dependent variable, ILI. What best describes the distribution of values of ILI?"
   ]
  },
  {
   "cell_type": "code",
   "execution_count": null,
   "metadata": {
    "collapsed": true
   },
   "outputs": [],
   "source": [
    "hist(FluTrain$ILI)"
   ]
  },
  {
   "cell_type": "markdown",
   "metadata": {},
   "source": [
    "Plot the natural logarithm of ILI versus Queries. What does the plot suggest?\n",
    "\n",
    "We know from looking at the histogram that the ILI values are skewed to the right. Given this skewing of the data, it may be preferable to use `log` of ILI to keep the few large or small values from having an undue influence on the RSS of predictive models. Appreciate the difference in both plots"
   ]
  },
  {
   "cell_type": "code",
   "execution_count": null,
   "metadata": {
    "collapsed": true
   },
   "outputs": [],
   "source": [
    "par(mfrow=c(1,2))\n",
    "plot(FluTrain$ILI, FluTrain$Queries) \n",
    "plot(log(FluTrain$ILI), FluTrain$Queries) # with the log of ILI\n",
    "\n",
    "par(mfrow=c(1,1)) #reset it"
   ]
  },
  {
   "cell_type": "markdown",
   "metadata": {},
   "source": [
    "Create a regression model to predict log(ILI) based on Queries.\n",
    "\n",
    "What is the training set R-squared value?"
   ]
  },
  {
   "cell_type": "code",
   "execution_count": null,
   "metadata": {
    "collapsed": true
   },
   "outputs": [],
   "source": [
    "FluTrend1 <- lm(log(ILI) ~ Queries, data = FluTrain)\n",
    "summary(FluTrend1)"
   ]
  },
  {
   "cell_type": "markdown",
   "metadata": {},
   "source": [
    "What is our estimate for the percentage of ILI-related physician visits for the week of March 11, 2012?\n",
    "\n",
    "We will _not_ use `PredTest1 = predict(FluTrend1, newdata=FluTest)` because we are trying to predict `ILI` rather than `log(ILI)`, which was used to generate our model. Instead we will have to use `exp` to calculate the compute the exponential value in order to get the desired output in `ILI`."
   ]
  },
  {
   "cell_type": "code",
   "execution_count": null,
   "metadata": {
    "collapsed": true
   },
   "outputs": [],
   "source": [
    "PredTest1 = exp(predict(FluTrend1, newdata=FluTest))\n",
    "\n",
    "FluTest$Week # shows that 2012-03-11 is index 11\n",
    "FluTest$Week[11] # to confirm\n",
    "PredTest1[11] # gives estimate of % of ILI-related doc visits"
   ]
  },
  {
   "cell_type": "markdown",
   "metadata": {},
   "source": [
    "What is the relative error betweeen the estimate (our prediction) and the observed value for the week of March 11, 2012?\n",
    "\n",
    "Relative Error = (Observed ILI - Estimated ILI)/Observed ILI"
   ]
  },
  {
   "cell_type": "code",
   "execution_count": null,
   "metadata": {
    "collapsed": true
   },
   "outputs": [],
   "source": [
    "(FluTest$ILI[11] - PredTest1[11])/FluTest$ILI[11]"
   ]
  },
  {
   "cell_type": "markdown",
   "metadata": {},
   "source": [
    "What is the Root Mean Square Error (RMSE) between our estimates and the actual observations for the percentage of ILI-related physician visits, on the test set?"
   ]
  },
  {
   "cell_type": "code",
   "execution_count": null,
   "metadata": {
    "collapsed": true
   },
   "outputs": [],
   "source": [
    "RSS <- sum((PredTest1 - FluTest$ILI)^2)\n",
    "RMSE <- sqrt(RSS/nrow(FluTest))\n",
    "RSS\n",
    "RMSE"
   ]
  },
  {
   "cell_type": "markdown",
   "metadata": {},
   "source": [
    "Build a variable called `ILILag2` that contains the `ILI` value from 2 weeks before the current observation. Why? Because the `ILI` variable is reported with a 1- or 2-week lag we cannot rely on the previous week's ILI value to predict the current week's value.\n",
    "\n",
    "Since we are dealing with Time-Series data, let's use the `zoo` package.\n",
    "\n",
    "How many values are missing in the new ILILag2 variable?"
   ]
  },
  {
   "cell_type": "code",
   "execution_count": null,
   "metadata": {
    "collapsed": true
   },
   "outputs": [],
   "source": [
    "library(zoo)\n",
    "ILILag2 = stats::lag(zoo(FluTrain$ILI), -2, na.pad = TRUE) #use stats:: b/c dplyr has a conflicting funxn\n",
    "FluTrain$ILILag2 = coredata(ILILag2) # adds the ILILag2 data to the training set\n",
    "\n",
    "sum(is.na(ILILag2))"
   ]
  },
  {
   "cell_type": "markdown",
   "metadata": {},
   "source": [
    "Plot the log of ILILag2 against the log of ILI."
   ]
  },
  {
   "cell_type": "code",
   "execution_count": null,
   "metadata": {
    "collapsed": true
   },
   "outputs": [],
   "source": [
    "plot(log(FluTrain$ILILag2), log(FluTrain$ILI))"
   ]
  },
  {
   "cell_type": "markdown",
   "metadata": {},
   "source": [
    "Train a linear regression model on the FluTrain dataset to predict the log of the ILI variable using the Queries variable as well as the log of the ILILag2 variable.\n",
    "\n",
    "Which coefficients are significant at the p=0.05 level?"
   ]
  },
  {
   "cell_type": "code",
   "execution_count": null,
   "metadata": {
    "collapsed": true
   },
   "outputs": [],
   "source": [
    "FluTrend2 <- lm(log(ILI) ~ Queries + log(ILILag2), data = FluTrain)\n",
    "summary(FluTrend2)"
   ]
  },
  {
   "cell_type": "markdown",
   "metadata": {},
   "source": [
    "Add an ILILag2 variable to the FluTest data frame. How many missing values are there in this new variable?"
   ]
  },
  {
   "cell_type": "code",
   "execution_count": null,
   "metadata": {
    "collapsed": true
   },
   "outputs": [],
   "source": [
    "ILILag2 = stats::lag(zoo(FluTest$ILI), -2, na.pad = TRUE)\n",
    "FluTest$ILILag2 = coredata(ILILag2)\n",
    "\n",
    "sum(is.na(ILILag2))"
   ]
  },
  {
   "cell_type": "markdown",
   "metadata": {},
   "source": [
    "Obtain test set predictions of the ILI variable from the FluTrend2 model.\n",
    "\n",
    "What is the test-set RMSE of the FluTrend2 model?"
   ]
  },
  {
   "cell_type": "code",
   "execution_count": null,
   "metadata": {
    "collapsed": true
   },
   "outputs": [],
   "source": [
    "predictTest2 <- exp(predict(FluTrend2, newdata = FluTest))\n",
    "\n",
    "RSS <- sum((predictTest2 - FluTest$ILI)^2)\n",
    "RMSE <- sqrt(RSS/nrow(FluTest))\n",
    "RMSE"
   ]
  }
 ],
 "metadata": {
  "kernelspec": {
   "display_name": "R",
   "language": "R",
   "name": "ir"
  },
  "language_info": {
   "codemirror_mode": "r",
   "file_extension": ".r",
   "mimetype": "text/x-r-source",
   "name": "R",
   "pygments_lexer": "r",
   "version": "3.4.1"
  }
 },
 "nbformat": 4,
 "nbformat_minor": 2
}
